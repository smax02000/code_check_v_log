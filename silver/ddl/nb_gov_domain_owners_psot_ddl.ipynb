{
 "cells": [
  {
   "cell_type": "code",
   "execution_count": null,
   "id": "fc93e2b0",
   "metadata": {
    "vscode": {
     "languageId": "plaintext"
    }
   },
   "outputs": [],
   "source": [
    "%sql\n",
    "CREATE TABLE vhqd.sot_gov.gov_domain_owners_psot (\n",
    "    id SERIAL PRIMARY KEY,\n",
    "    domain_name VARCHAR(255) NOT NULL,\n",
    "    owner_name VARCHAR(255),\n",
    "    owner_email VARCHAR(255),\n",
    "    registration_date DATE,\n",
    "    expiry_date DATE,\n",
    "    status VARCHAR(50),\n",
    "    created_at TIMESTAMP DEFAULT CURRENT_TIMESTAMP,\n",
    "    updated_at TIMESTAMP DEFAULT CURRENT_TIMESTAMP ON UPDATE CURRENT_TIMESTAMP\n",
    ");"
   ]
  }
 ],
 "metadata": {
  "language_info": {
   "name": "python"
  }
 },
 "nbformat": 4,
 "nbformat_minor": 5
}
