{
 "cells": [
  {
   "cell_type": "code",
   "execution_count": null,
   "id": "b65d46cf",
   "metadata": {
    "vscode": {
     "languageId": "plaintext"
    }
   },
   "outputs": [],
   "source": [
    "%sql\n",
    "CREATE TABLE vhqd.ing_gov.gov_domain_owners_ing (\n",
    "    id SERIAL PRIMARY KEY,\n",
    "    domain_name VARCHAR(255) NOT NULL,\n",
    "    owner_name VARCHAR(255),\n",
    "    owner_email VARCHAR(255),\n",
    "    registration_date DATE,\n",
    "    expiry_date DATE,\n",
    "    status VARCHAR(50),\n",
    "    created_at TIMESTAMP DEFAULT CURRENT_TIMESTAMP,\n",
    "    updated_at TIMESTAMP DEFAULT CURRENT_TIMESTAMP ON UPDATE CURRENT_TIMESTAMP\n",
    ");"
   ]
  }
 ],
 "metadata": {
  "language_info": {
   "name": "python"
  }
 },
 "nbformat": 4,
 "nbformat_minor": 5
}
