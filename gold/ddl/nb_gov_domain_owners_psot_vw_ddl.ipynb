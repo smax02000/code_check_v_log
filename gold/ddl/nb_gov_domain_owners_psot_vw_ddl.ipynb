{
 "cells": [
  {
   "cell_type": "code",
   "execution_count": null,
   "id": "150a116e",
   "metadata": {
    "vscode": {
     "languageId": "plaintext"
    }
   },
   "outputs": [],
   "source": [
    "%sql\n",
    "CREATE OR REPLACE VIEW AS \n",
    "SELECT * FROM vhqd.sot_gov.gov_domain_owners_psot;"
   ]
  }
 ],
 "metadata": {
  "language_info": {
   "name": "python"
  }
 },
 "nbformat": 4,
 "nbformat_minor": 5
}
